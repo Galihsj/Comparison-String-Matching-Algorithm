{
  "nbformat": 4,
  "nbformat_minor": 0,
  "metadata": {
    "colab": {
      "provenance": []
    },
    "kernelspec": {
      "name": "python3",
      "display_name": "Python 3"
    },
    "language_info": {
      "name": "python"
    }
  },
  "cells": [
    {
      "cell_type": "code",
      "execution_count": null,
      "metadata": {
        "id": "r2Z6xx4xvyj1"
      },
      "outputs": [],
      "source": [
        "import math\n",
        "from math import floor, ceil \n",
        "import re\n",
        "from collections import Counter\n",
        "import numpy as np\n",
        "import heapq\n",
        "\n",
        "\n",
        "def find_ngrams(string: str, split_num: int=3) -> set:\n",
        "    \"\"\"\n",
        "    Slice string into ngrams.\n",
        "    Returns array of ngrams for the given string.\n",
        "    Arguments:\n",
        "        text: the string to find ngrams for.\n",
        "        split_num: the length the ngrams should be. Defaults to 3 (trigrams).\n",
        "    \"\"\"\n",
        "    try:\n",
        "        if not string:\n",
        "            return set()\n",
        "\n",
        "        words = [f'  {x} ' for x in re.split(r'\\W+', str(string).lower()) if x.strip()]\n",
        "\n",
        "        ngrams = set()\n",
        "\n",
        "        for word in words:\n",
        "            for x in range(0, len(word) - split_num + 1):\n",
        "                ngrams.add(word[x:x+split_num])\n",
        "\n",
        "        return ngrams\n",
        "\n",
        "    except:\n",
        "        return None\n",
        "\n",
        "\n",
        "def trigram(text1: str, text2: str, split_num: int=3):\n",
        "    \"\"\"\n",
        "    Find the similarity between two strings using ngrams.\n",
        "    Returns float score value, 0.0 being completely different strings and 1.0 being equal strings.\n",
        "    Arguments:\n",
        "        text1: main string to compare against.\n",
        "        text2: second string to compare to text1.\n",
        "        split_num: the length the ngrams should be. Defaults to 3 (trigrams).\n",
        "    \"\"\"\n",
        "    try:\n",
        "        ngrams1 = find_ngrams(text1, split_num)\n",
        "        ngrams2 = find_ngrams(text2, split_num)\n",
        "\n",
        "        num_unique = len(ngrams1 | ngrams2)\n",
        "        num_equal = len(ngrams1 & ngrams2)\n",
        "\n",
        "        score = round(float(num_equal) / float(num_unique), 6)\n",
        "\n",
        "        return score\n",
        "\n",
        "    except:\n",
        "        return None\n",
        "\n",
        "\n",
        "def cosine(text1, text2):\n",
        "    \"\"\"\n",
        "    Find the similarity between two strings using cosine vectors.\n",
        "    Returns float score value, 0.0 being completely different strings and 1.0 being equal strings.\n",
        "    Arguments:\n",
        "        text1: main string to compare against.\n",
        "        text2: second string to compare to text1.\n",
        "    \"\"\"\n",
        "    try:\n",
        "        vec1 = Counter(re.compile(r\"\\w+\").findall(text1))\n",
        "        vec2 = Counter(re.compile(r\"\\w+\").findall(text2))\n",
        "        intersection = set(vec1.keys()) & set(vec2.keys())\n",
        "        numerator = sum([vec1[x] * vec2[x] for x in intersection])\n",
        "\n",
        "        sum1 = sum([vec1[x] ** 2 for x in list(vec1.keys())])\n",
        "        sum2 = sum([vec2[x] ** 2 for x in list(vec2.keys())])\n",
        "        denominator = math.sqrt(sum1) * math.sqrt(sum2)\n",
        "\n",
        "        if not denominator:\n",
        "            return 0.0\n",
        "        else:\n",
        "            return float(numerator) / denominator\n",
        "\n",
        "    except:\n",
        "        return None\n",
        "\n",
        "\n",
        "def levenshtein(text1, text2):\n",
        "    \"\"\"\n",
        "    Find the similarity between two strings using Levenshtein distance.\n",
        "    Returns float score value, 0.0 being completely different strings and 1.0 being equal strings.\n",
        "    Arguments:\n",
        "        text1: main string to compare against.\n",
        "        text2: second string to compare to text1.\n",
        "    \"\"\"\n",
        "    try:\n",
        "        size_x = len(text1) + 1\n",
        "        size_y = len(text2) + 1\n",
        "        matrix = np.zeros ((size_x, size_y))\n",
        "        for x in range(size_x):\n",
        "            matrix [x, 0] = x\n",
        "        for y in range(size_y):\n",
        "            matrix [0, y] = y\n",
        "\n",
        "        for x in range(1, size_x):\n",
        "            for y in range(1, size_y):\n",
        "                if text1[x-1] == text2[y-1]:\n",
        "                    matrix [x,y] = min(\n",
        "                        matrix[x-1, y] + 1,\n",
        "                        matrix[x-1, y-1],\n",
        "                        matrix[x, y-1] + 1\n",
        "                    )\n",
        "                else:\n",
        "                    matrix [x,y] = min(\n",
        "                        matrix[x-1,y] + 1,\n",
        "                        matrix[x-1,y-1] + 1,\n",
        "                        matrix[x,y-1] + 1\n",
        "                    )\n",
        "        distance = matrix[size_x - 1, size_y - 1]\n",
        "        score = (max(len(text1), len(text2)) - distance) / max(len(text1), len(text2))\n",
        "        return float(score)\n",
        "\n",
        "    except:\n",
        "        return None\n",
        "\n",
        "\n",
        "def jaro_winkler(s1, s2):\n",
        "    \"\"\"\n",
        "    Find the similarity between two strings using Jaro-Winkler distance.\n",
        "    Returns float score value, 0.0 being completely different strings and 1.0 being equal strings.\n",
        "    Arguments:\n",
        "        text1: main string to compare against.\n",
        "        text2: second string to compare to text1.\n",
        "    \"\"\"\n",
        "    try:\n",
        "        if (s1 == s2): \n",
        "            return 1.0\n",
        "    \n",
        "        len1 = len(s1) \n",
        "        len2 = len(s2) \n",
        "        max_dist = floor(max(len1, len2) / 2) - 1\n",
        "        match = 0\n",
        "        hash_s1 = [0] * len(s1) \n",
        "        hash_s2 = [0] * len(s2) \n",
        "\n",
        "        for i in range(len1): \n",
        "            for j in range(max(0, i - max_dist),  \n",
        "                        min(len2, i + max_dist + 1)): \n",
        "                \n",
        "                if (s1[i] == s2[j] and hash_s2[j] == 0): \n",
        "                    hash_s1[i] = 1\n",
        "                    hash_s2[j] = 1\n",
        "                    match += 1\n",
        "                    break\n",
        "\n",
        "        if (match == 0): \n",
        "            return 0.0\n",
        "    \n",
        "        t = 0\n",
        "        point = 0\n",
        "\n",
        "        for i in range(len1): \n",
        "            if (hash_s1[i]): \n",
        "     \n",
        "                while (hash_s2[point] == 0): \n",
        "                    point += 1\n",
        "    \n",
        "                if (s1[i] != s2[point]): \n",
        "                    point += 1\n",
        "                    t += 1\n",
        "        t = t//2\n",
        "    \n",
        "        return float(match/ len1 + match / len2 + \n",
        "                (match - t + 1) / match)/ 3.0\n",
        "    except:\n",
        "        return None\n",
        "        \n",
        "def extract(query, choices, match_type='trigram', score_cutoff=0, limit=5):\n",
        "    \"\"\"\n",
        "    Find the similarity between a query item and a list of choices.\n",
        "    Returns a tuple of all choices and their associated similarity score.\n",
        "     Arguments:\n",
        "        query: The string you are wanting to match.\n",
        "        choices: An iterable or dictionary-like object containing choices\n",
        "            to be matched against the query.\n",
        "        score_cutoff: Optional argument for score threshold. If the best\n",
        "            match is found, but it is not greater than this number, then\n",
        "            return None anyway (\"not a good enough match\").  Defaults to 0.\n",
        "    \"\"\"\n",
        "    try:\n",
        "        if match_type == 'trigram':\n",
        "            match_type = algorithims.trigram\n",
        "        elif match_type == 'levenshtein':\n",
        "            match_type = algorithims.levenshtein\n",
        "        elif match_type == 'cosine':\n",
        "            match_type = algorithims.cosine\n",
        "        elif match_type == 'jaro_winkler':\n",
        "            match_type = algorithims.jaro_winkler\n",
        "        try:\n",
        "            if choices is None or len(choices) == 0:\n",
        "                return\n",
        "        except TypeError:\n",
        "            pass\n",
        "\n",
        "        results = []\n",
        "        \n",
        "        for i in choices:\n",
        "            score = (match_type(query, i))\n",
        "            data = (i, score)\n",
        "            if score >= score_cutoff:\n",
        "                results.append(data) #menambah nilai pada list di urutan terakhir\n",
        "\n",
        "\n",
        "        return heapq.nlargest(limit, results, key=lambda i: i[1]) if limit is not None else \\\n",
        "            sorted(results, key=lambda i: i[1], reverse=True)\n",
        "\n",
        "        # return results\n",
        "\n",
        "    except:\n",
        "        return None\n",
        "\n",
        "\n",
        "def extractOne(query, choices, match_type='trigram', score_cutoff=0):\n",
        "    \"\"\"\n",
        "    Finds the most similar item to query item from a list of choices.\n",
        "    Returns tuple of best choice and its associated similarity score.\n",
        "     Arguments:\n",
        "        query: The string you are wanting to match.\n",
        "        choices: An iterable or dictionary-like object containing choices\n",
        "            to be matched against the query.\n",
        "        score_cutoff: Optional argument for score threshold. If the best\n",
        "            match is found, but it is not greater than this number, then\n",
        "            return None anyway (\"not a good enough match\"). Defaults to 0.\n",
        "    \"\"\"\n",
        "\n",
        "    try:\n",
        "        best_list = extract(query, choices, match_type, score_cutoff)\n",
        "\n",
        "        best = max(best_list, key=lambda i: i[1])\n",
        "\n",
        "        return best\n",
        "\n",
        "    except:\n",
        "        return None"
      ]
    },
    {
      "cell_type": "code",
      "source": [
        "import csv\n",
        "\n",
        "data = []\n",
        "\n",
        "with open('pkl pertanyaan tok.csv') as csv_file:\n",
        "  csv_reader = csv.reader(csv_file, delimiter=\",\")\n",
        "  for row in csv_reader:\n",
        "    data.append(row)\n",
        "\n",
        "labels = data.pop(0)\n",
        "\n",
        "print(labels)\n",
        "print(data)"
      ],
      "metadata": {
        "colab": {
          "base_uri": "https://localhost:8080/"
        },
        "id": "ui-RGAHL14Ri",
        "outputId": "ebaa1a43-4b51-47b2-f46b-d34ec021abcf"
      },
      "execution_count": null,
      "outputs": [
        {
          "output_type": "stream",
          "name": "stdout",
          "text": [
            "['Pertanyaan']\n",
            "[['hai kak'], ['halo kak'], ['pagi kak'], ['siang kak'], ['sore kak'], ['malam kak'], ['selamat pagi'], ['selamat siang'], ['selamat sore'], ['selamat malam'], ['permisi'], ['hi'], ['pagi kak beli'], ['siang kak beli'], ['sore kak beli'], ['malam kak beli'], ['halo sis beli'], ['permisi kak'], ['kak pesan'], ['harganya kak'], ['harganya'], ['harga'], ['halo kak barangnya ready'], ['barang ready'], ['barangnya ready'], ['hai kak barangnya ready'], ['halo kak stoknya aja'], ['stoknya aja'], ['sisa kak'], ['varian lemon '], ['varian lemon kak'], ['lemon kak'], ['lemon'], ['varian kopi'], ['varian kopi kak'], ['kopi kak'], ['kopi'], ['varian greentea '], ['varian greentea kak'], ['greentea kak'], ['greentea']]\n"
          ]
        }
      ]
    },
    {
      "cell_type": "code",
      "source": [
        "print(\"T :\", trigram(''.join(data[31]),''.join(data[32])))\n",
        "print(\"L :\", levenshtein(''.join(data[31]),''.join(data[32])))\n",
        "print(\"jw:\", jaro_winkler(''.join(data[31]),''.join(data[32])))\n",
        "print(\"c :\", cosine(''.join(data[31]),''.join(data[32])))"
      ],
      "metadata": {
        "colab": {
          "base_uri": "https://localhost:8080/"
        },
        "id": "LBf9b3T-9h7w",
        "outputId": "3af9bc05-326e-4c7b-a104-34abbba0bbb7"
      },
      "execution_count": null,
      "outputs": [
        {
          "output_type": "stream",
          "name": "stdout",
          "text": [
            "T : 0.6\n",
            "L : 0.5555555555555556\n",
            "jw: 0.7851851851851852\n",
            "c : 0.7071067811865475\n"
          ]
        }
      ]
    },
    {
      "cell_type": "code",
      "source": [
        "i = 0\n",
        "n =10\n",
        "jum=0\n",
        "while i <= n:\n",
        "  jum += trigram(''.join(data[i]),''.join(data[i+1]))\n",
        "  i+=1 \n",
        "Rerata_t2 = jum/n\n",
        "print(\"Rerata Dua Kata Trigram ialah : \", Rerata_t2)\n",
        "\n",
        "j = 12\n",
        "m = 15\n",
        "jm =0\n",
        "while j <= m:\n",
        "  jm += trigram(''.join(data[j]),''.join(data[j+1])) \n",
        "  j+=1\n",
        "Rerata_t3 = jm/3\n",
        "print(\"Rerata Tiga Kata Trigram ialah : \", Rerata_t3)\n",
        "\n",
        "k=22\n",
        "o=25\n",
        "mj=0\n",
        "while k <= o:\n",
        "  mj += trigram(''.join(data[k]),''.join(data[k+1])) \n",
        "  k+=1\n",
        "Rerata_KataMiripT = mj/3\n",
        "print(\"Rerata Kata Mirip Beda Panjang Trigram ialah : \", Rerata_KataMiripT)\n",
        "\n",
        "a=29\n",
        "b=39\n",
        "ab=0\n",
        "while a <= b:\n",
        "  ab += trigram(''.join(data[a]),''.join(data[a+1])) \n",
        "  a+=1\n",
        "Rerata_KataMaknaSamaBedaKuantiti = ab/10\n",
        "print(\"Rerata Kata Makna Sama Beda Kuantiti Trigram ialah : \", Rerata_KataMaknaSamaBedaKuantiti)"
      ],
      "metadata": {
        "colab": {
          "base_uri": "https://localhost:8080/"
        },
        "id": "6W5VpymX45iq",
        "outputId": "953e4e97-b3a2-48fb-d9c1-733bf0b0b165"
      },
      "execution_count": null,
      "outputs": [
        {
          "output_type": "stream",
          "name": "stdout",
          "text": [
            "Rerata Dua Kata Trigram ialah :  0.31527210000000006\n",
            "Rerata Tiga Kata Trigram ialah :  0.544883\n",
            "Rerata Kata Mirip Beda Panjang Trigram ialah :  0.6834343333333334\n",
            "Rerata Kata Makna Sama Beda Kuantiti Trigram ialah :  0.6053582\n"
          ]
        }
      ]
    },
    {
      "cell_type": "code",
      "source": [
        "i = 0\n",
        "n=10\n",
        "jum=0\n",
        "while i <= n:\n",
        "  jum += levenshtein(''.join(data[i]),''.join(data[i+1]))\n",
        "  i+=1 \n",
        "Rerata_l2 = jum/n\n",
        "print(\"Rerata Dua Kata levenshtein ialah : \", Rerata_l2)\n",
        "\n",
        "j = 12\n",
        "m = 15\n",
        "jm =0\n",
        "while j <= m:\n",
        "  jm += levenshtein(''.join(data[j]),''.join(data[j+1])) \n",
        "  j+=1\n",
        "Rerata_l3 = jm/3\n",
        "print(\"Rerata Tiga Kata levenshtein ialah : \", Rerata_l3)\n",
        "\n",
        "\n",
        "k=22\n",
        "o=25\n",
        "mj=0\n",
        "while k <= o:\n",
        "  mj += levenshtein(''.join(data[k]),''.join(data[k+1])) \n",
        "  k+=1\n",
        "Rerata_KataMiripL = mj/3\n",
        "print(\"Rerata Kata Mirip Beda Panjang Leivenstein ialah : \", Rerata_KataMiripL)\n",
        "\n",
        "a=29\n",
        "b=39\n",
        "ab=0\n",
        "while a <= b:\n",
        "  ab += levenshtein(''.join(data[a]),''.join(data[a+1])) \n",
        "  a+=1\n",
        "Rerata_KataMaknaSamaBedaKuantiti = ab/10\n",
        "print(\"Rerata Kata Makna Sama Beda Kuantiti levenshtein ialah : \", Rerata_KataMaknaSamaBedaKuantiti)"
      ],
      "metadata": {
        "colab": {
          "base_uri": "https://localhost:8080/"
        },
        "id": "0rMR90gY8aYD",
        "outputId": "7165c983-2052-4dff-89ad-f9ec18078b62"
      },
      "execution_count": null,
      "outputs": [
        {
          "output_type": "stream",
          "name": "stdout",
          "text": [
            "Rerata Dua Kata levenshtein ialah :  0.5643925518925519\n",
            "Rerata Tiga Kata levenshtein ialah :  0.880952380952381\n",
            "Rerata Kata Mirip Beda Panjang Leivenstein ialah :  0.8101449275362319\n",
            "Rerata Kata Makna Sama Beda Kuantiti levenshtein ialah :  0.5990982190324297\n"
          ]
        }
      ]
    },
    {
      "cell_type": "code",
      "source": [
        "i = 0\n",
        "n=10\n",
        "jum=0\n",
        "while i <= n:\n",
        "  jum += jaro_winkler(''.join(data[i]),''.join(data[i+1]))\n",
        "  i+=1 \n",
        "Rerata_jw2 = jum/n\n",
        "print(\"Rerata Dua Kata jaro_winkler ialah : \", Rerata_jw2)\n",
        "\n",
        "j = 12\n",
        "m = 15\n",
        "jm =0\n",
        "while j <= m:\n",
        "  jm += jaro_winkler(''.join(data[j]),''.join(data[j+1])) \n",
        "  j+=1\n",
        "Rerata_jw3 = jm/3\n",
        "print(\"Rerata Tiga Kata jaro_winkler ialah : \", Rerata_jw3)\n",
        "\n",
        "k=22\n",
        "o=25\n",
        "mj=0\n",
        "while k <= o:\n",
        "  mj += jaro_winkler(''.join(data[k]),''.join(data[k+1])) \n",
        "  k+=1\n",
        "Rerata_KataMiripJW = mj/3\n",
        "print(\"Rerata Kata Mirip Beda Panjang Jaro_Winkler ialah : \", Rerata_KataMiripJW)\n",
        "\n",
        "a=29\n",
        "b=39\n",
        "ab=0\n",
        "while a <= b:\n",
        "  ab += jaro_winkler(''.join(data[a]),''.join(data[a+1])) \n",
        "  a+=1\n",
        "Rerata_KataMaknaSamaBedaKuantiti = ab/10\n",
        "print(\"Rerata Kata Makna Sama Beda Kuantiti Jaro Winkler ialah : \", Rerata_KataMaknaSamaBedaKuantiti)"
      ],
      "metadata": {
        "colab": {
          "base_uri": "https://localhost:8080/"
        },
        "id": "PyjF-QcP8uOC",
        "outputId": "b6d0f9b4-163b-4f2d-8e1b-887439a3741e"
      },
      "execution_count": null,
      "outputs": [
        {
          "output_type": "stream",
          "name": "stdout",
          "text": [
            "Rerata Dua Kata jaro_winkler ialah :  0.6994030044030044\n",
            "Rerata Tiga Kata jaro_winkler ialah :  0.9632275132275131\n",
            "Rerata Kata Mirip Beda Panjang Jaro_Winkler ialah :  0.9267899170073083\n",
            "Rerata Kata Makna Sama Beda Kuantiti Jaro Winkler ialah :  0.8503132369579738\n"
          ]
        }
      ]
    },
    {
      "cell_type": "code",
      "source": [
        "i = 0\n",
        "n=10\n",
        "jum=0\n",
        "while i <= n:\n",
        "  jum += cosine(''.join(data[i]),''.join(data[i+1])) \n",
        "  i+=1\n",
        "Rerata_c2 = jum/n\n",
        "print(\"Rerata Dua Kata cosine ialah : \", Rerata_c2)\n",
        "\n",
        "j = 12\n",
        "m = 15\n",
        "jm =0\n",
        "while j <= m:\n",
        "  jm += cosine(''.join(data[j]),''.join(data[j+1])) \n",
        "  j+=1\n",
        "Rerata_c3 = jm/3\n",
        "print(\"Rerata Tiga Kata cosine ialah : \", Rerata_c3)\n",
        "\n",
        "k=22\n",
        "o=25\n",
        "mj=0\n",
        "while k <= o:\n",
        "  mj += cosine(''.join(data[k]),''.join(data[k+1])) \n",
        "  k+=1\n",
        "Rerata_KataMiripc = mj/3\n",
        "print(\"Rerata Kata Mirip Beda Panjang cosine ialah : \", Rerata_KataMiripc)\n",
        "\n",
        "a=29\n",
        "b=39\n",
        "ab=0\n",
        "while a <= b:\n",
        "  ab += cosine(''.join(data[a]),''.join(data[a+1])) \n",
        "  a+=1\n",
        "Rerata_KataMaknaSamaBedaKuantiti = ab/10\n",
        "print(\"Rerata Kata Makna Sama Beda Kuantiti Cosine ialah : \", Rerata_KataMaknaSamaBedaKuantiti)"
      ],
      "metadata": {
        "colab": {
          "base_uri": "https://localhost:8080/"
        },
        "id": "RGG0VJAK83hu",
        "outputId": "0b5acd26-e200-4794-bd7f-cb7688b60a43"
      },
      "execution_count": null,
      "outputs": [
        {
          "output_type": "stream",
          "name": "stdout",
          "text": [
            "Rerata Dua Kata cosine ialah :  0.39999999999999997\n",
            "Rerata Tiga Kata cosine ialah :  0.7777777777777778\n",
            "Rerata Kata Mirip Beda Panjang cosine ialah :  0.6035533905932736\n",
            "Rerata Kata Makna Sama Beda Kuantiti Cosine ialah :  0.7020299829126\n"
          ]
        }
      ]
    },
    {
      "cell_type": "code",
      "source": [
        "Trigram = (Rerata_t2 + Rerata_t3 + Rerata_KataMiripT+Rerata_KataMaknaSamaBedaKuantiti)/4\n",
        "Leveinsthein = (Rerata_l2 + Rerata_l3 + Rerata_KataMiripL+Rerata_KataMaknaSamaBedaKuantiti)/4\n",
        "JaroWinkler = (Rerata_jw2 + Rerata_jw3 + Rerata_KataMiripJW+Rerata_KataMaknaSamaBedaKuantiti)/4\n",
        "Cosine = (Rerata_c2 + Rerata_c3 + Rerata_KataMiripc+Rerata_KataMaknaSamaBedaKuantiti)/4\n",
        "print(\"Maka Kesimpulan Perbandingan Algortima Yang Didapatkan \")\n",
        "print(\"Rata-rata untuk Trigram      ialah \", Trigram )\n",
        "print(\"Rata-rata untuk Leveinsthein ialah \", Leveinsthein )\n",
        "print(\"Rata-rata untuk Jaro Winkler ialah \", JaroWinkler )\n",
        "print(\"Rata-rata untuk Cosine       ialah \", Cosine )"
      ],
      "metadata": {
        "colab": {
          "base_uri": "https://localhost:8080/"
        },
        "id": "slaO90zepJu6",
        "outputId": "259a19fd-4809-4342-98c9-42af1637634c"
      },
      "execution_count": null,
      "outputs": [
        {
          "output_type": "stream",
          "name": "stdout",
          "text": [
            "Maka Kesimpulan Perbandingan Algortima Yang Didapatkan \n",
            "Rata-rata untuk Trigram      ialah  0.5614048540614833\n",
            "Rata-rata untuk Leveinsthein ialah  0.7393799608234413\n",
            "Rata-rata untuk Jaro Winkler ialah  0.8228626043876064\n",
            "Rata-rata untuk Cosine       ialah  0.6208402878209129\n"
          ]
        }
      ]
    },
    {
      "cell_type": "code",
      "source": [
        "import matplotlib.pyplot as plt\n",
        "plt.figure(figsize=(10,6))\n",
        "plt.bar(['Trigram','Leveinsthein', 'Jaro Winkler','Cosine' ],[Trigram , Leveinsthein,JaroWinkler,Cosine],color=['royalblue','red', 'green', 'orange'] )\n",
        "plt.xlabel('\\nJenis Algoritma', size=14)\n",
        "plt.ylabel('\\nEfektifitas Algortima', size=14)\n",
        "plt.title('Perbandingan Efektifitas Algoritma String Matching\\n', size=16)\n",
        "plt.show()"
      ],
      "metadata": {
        "colab": {
          "base_uri": "https://localhost:8080/"
        },
        "id": "xRjtVvKuq8WJ",
        "outputId": "1764535a-2648-440d-bbed-91b195a87477"
      },
      "execution_count": null,
      "outputs": [
        {
          "output_type": "display_data",
          "data": {
            "text/plain": [
              "<Figure size 720x432 with 1 Axes>"
            ],
            "image/png": "[encoded data removed]"
          },
          "metadata": {
            "needs_background": "light"
          }
        }
      ]
    }
  ]
}